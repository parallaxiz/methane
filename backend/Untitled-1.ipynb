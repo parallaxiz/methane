{
 "cells": [
  {
   "cell_type": "code",
   "execution_count": 23,
   "id": "5e6556ab",
   "metadata": {},
   "outputs": [
    {
     "data": {
      "text/html": [
       "\n",
       "            <style>\n",
       "                .geemap-dark {\n",
       "                    --jp-widgets-color: white;\n",
       "                    --jp-widgets-label-color: white;\n",
       "                    --jp-ui-font-color1: white;\n",
       "                    --jp-layout-color2: #454545;\n",
       "                    background-color: #383838;\n",
       "                }\n",
       "\n",
       "                .geemap-dark .jupyter-button {\n",
       "                    --jp-layout-color3: #383838;\n",
       "                }\n",
       "\n",
       "                .geemap-colab {\n",
       "                    background-color: var(--colab-primary-surface-color, white);\n",
       "                }\n",
       "\n",
       "                .geemap-colab .jupyter-button {\n",
       "                    --jp-layout-color3: var(--colab-primary-surface-color, white);\n",
       "                }\n",
       "            </style>\n",
       "            "
      ],
      "text/plain": [
       "<IPython.core.display.HTML object>"
      ]
     },
     "metadata": {},
     "output_type": "display_data"
    },
    {
     "name": "stdout",
     "output_type": "stream",
     "text": [
      "✅ Earth Engine client initialized successfully.\n"
     ]
    },
    {
     "data": {
      "application/vnd.jupyter.widget-view+json": {
       "model_id": "1abbcfdbe0584780a7eafe1727b9263e",
       "version_major": 2,
       "version_minor": 0
      },
      "text/plain": [
       "Map(center=[-119.5, 36.5], controls=(WidgetControl(options=['position', 'transparent_bg'], position='topright'…"
      ]
     },
     "execution_count": 23,
     "metadata": {},
     "output_type": "execute_result"
    }
   ],
   "source": [
    "import ee\n",
    "import geemap\n",
    "import os\n",
    "import datetime # <<< FIX: Import Python's datetime library\n",
    "\n",
    "# --- 1. INITIALIZATION & SETUP ---\n",
    "PROJECT_ID = 'flash-griffin-473118-e3'\n",
    "\n",
    "# Define the region of interest\n",
    "CENTER_LON = -119.5\n",
    "CENTER_LAT = 36.5\n",
    "ZOOM_LEVEL = 6\n",
    "FILTER_POINT = ee.Geometry.Point(CENTER_LON, CENTER_LAT)\n",
    "BOUNDING_BOX = ee.Geometry.BBox(\n",
    "    CENTER_LON - 5, CENTER_LAT - 5, CENTER_LON + 5, CENTER_LAT + 5\n",
    ")\n",
    "\n",
    "try:\n",
    "    ee.Initialize(project=PROJECT_ID)\n",
    "    print(\"✅ Earth Engine client initialized successfully.\")\n",
    "except Exception as e:\n",
    "    print(f\"❌ Error during initialization. Check ID and API enablement. Error: {e}\")\n",
    "    raise\n",
    "\n",
    "# Create an interactive map\n",
    "Map = geemap.Map(center=[CENTER_LON, CENTER_LAT], zoom=ZOOM_LEVEL)\n",
    "Map.add_basemap('SATELLITE')\n",
    "\n",
    "# ----------------------------------------------------------------------\n",
    "# --- 2. DATA ACQUISITION & FILTERING (FOR LIVE DATA) ---\n",
    "# ----------------------------------------------------------------------\n",
    "METHANE_COLLECTION = 'COPERNICUS/S5P/OFFL/L3_CH4'\n",
    "\n",
    "# Set a rolling date range for the last 7 days\n",
    "DAYS_TO_VIEW = 7\n",
    "END_DATE = ee.Date(datetime.datetime.now()) # <<< FIX: Use Python's syntax\n",
    "START_DATE = END_DATE.advance(-DAYS_TO_VIEW, 'day')\n",
    "\n",
    "# Note: S5P data has a few days of latency, so this will get the most recent *available* data.\n",
    "methane_data = ee.ImageCollection(METHANE_COLLECTION) \\\n",
    "    .select('CH4_column_volume_mixing_ratio_dry_air') \\\n",
    "    .filterDate(START_DATE, END_DATE) \\\n",
    "    .filterBounds(FILTER_POINT) \\\n",
    "    .mean()\n",
    "\n",
    "# ----------------------------------------------------------------------\n",
    "# --- 3. VISUALIZATION OF METHANE SPOTS ---\n",
    "# ----------------------------------------------------------------------\n",
    "\n",
    "# This threshold hides the very low, background emissions so we only see the spots.\n",
    "BACKGROUND_THRESHOLD = 1850\n",
    "\n",
    "# This is the concentration that will get the brightest red color.\n",
    "PEAK_THRESHOLD = 1950\n",
    "\n",
    "# Apply the mask to make background pixels transparent\n",
    "methane_spots = methane_data.updateMask(methane_data.gt(BACKGROUND_THRESHOLD))\n",
    "\n",
    "# Define a palette that goes from a darker, faint red to a bright, solid red.\n",
    "spot_style = {\n",
    "    'min': BACKGROUND_THRESHOLD,\n",
    "    'max': PEAK_THRESHOLD,\n",
    "    'palette': ['#8B0000', '#FF0000'] # Dark Red to Bright Red\n",
    "}\n",
    "\n",
    "# Add the styled methane spots to the map\n",
    "Map.addLayer(\n",
    "    methane_spots,\n",
    "    spot_style,\n",
    "    f'Methane Hotspots (Last {DAYS_TO_VIEW} Days)'\n",
    ")\n",
    "\n",
    "# Display the map\n",
    "Map"
   ]
  },
  {
   "cell_type": "code",
   "execution_count": null,
   "id": "4dcfbd53",
   "metadata": {},
   "outputs": [],
   "source": []
  }
 ],
 "metadata": {
  "kernelspec": {
   "display_name": "base",
   "language": "python",
   "name": "python3"
  },
  "language_info": {
   "codemirror_mode": {
    "name": "ipython",
    "version": 3
   },
   "file_extension": ".py",
   "mimetype": "text/x-python",
   "name": "python",
   "nbconvert_exporter": "python",
   "pygments_lexer": "ipython3",
   "version": "3.13.5"
  }
 },
 "nbformat": 4,
 "nbformat_minor": 5
}
